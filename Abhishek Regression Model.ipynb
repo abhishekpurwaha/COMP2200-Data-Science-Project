{
 "cells": [
  {
   "cell_type": "code",
   "execution_count": 12,
   "id": "f239526d",
   "metadata": {},
   "outputs": [],
   "source": [
    "## Jack's FIFA 22 dataset"
   ]
  },
  {
   "cell_type": "code",
   "execution_count": 13,
   "id": "41a51fa7",
   "metadata": {},
   "outputs": [],
   "source": [
    "import pandas as pd\n",
    "import numpy as np\n",
    "import seaborn as sns\n",
    "import matplotlib.pyplot as plt\n",
    "%matplotlib inline\n",
    "from sklearn.model_selection import train_test_split\n",
    "from sklearn import linear_model\n",
    "from sklearn.metrics import r2_score\n",
    "from sklearn.linear_model import LogisticRegression\n",
    "from sklearn.metrics import confusion_matrix, accuracy_score\n",
    "from sklearn.feature_selection import RFE"
   ]
  },
  {
   "cell_type": "code",
   "execution_count": 14,
   "id": "ba4705c4",
   "metadata": {},
   "outputs": [
    {
     "name": "stderr",
     "output_type": "stream",
     "text": [
      "/Users/abhishekpurwaha/opt/anaconda3/lib/python3.8/site-packages/IPython/core/interactiveshell.py:3165: DtypeWarning: Columns (25,108) have mixed types.Specify dtype option on import or set low_memory=False.\n",
      "  has_raised = await self.run_ast_nodes(code_ast.body, cell_name,\n"
     ]
    },
    {
     "ename": "FileNotFoundError",
     "evalue": "[Errno 2] No such file or directory: 'files/fifa_21.csv'",
     "output_type": "error",
     "traceback": [
      "\u001b[0;31m---------------------------------------------------------------------------\u001b[0m",
      "\u001b[0;31mFileNotFoundError\u001b[0m                         Traceback (most recent call last)",
      "\u001b[0;32m<ipython-input-14-834a4ed265fd>\u001b[0m in \u001b[0;36m<module>\u001b[0;34m\u001b[0m\n\u001b[1;32m      1\u001b[0m \u001b[0mfifa_22\u001b[0m \u001b[0;34m=\u001b[0m \u001b[0mpd\u001b[0m\u001b[0;34m.\u001b[0m\u001b[0mread_csv\u001b[0m\u001b[0;34m(\u001b[0m\u001b[0;34m\"files/fifa_22.csv\"\u001b[0m\u001b[0;34m)\u001b[0m\u001b[0;34m\u001b[0m\u001b[0;34m\u001b[0m\u001b[0m\n\u001b[0;32m----> 2\u001b[0;31m \u001b[0mfifa_21\u001b[0m \u001b[0;34m=\u001b[0m \u001b[0mpd\u001b[0m\u001b[0;34m.\u001b[0m\u001b[0mread_csv\u001b[0m\u001b[0;34m(\u001b[0m\u001b[0;34m\"files/fifa_21.csv\"\u001b[0m\u001b[0;34m)\u001b[0m\u001b[0;34m\u001b[0m\u001b[0;34m\u001b[0m\u001b[0m\n\u001b[0m\u001b[1;32m      3\u001b[0m \u001b[0mfifa_20\u001b[0m \u001b[0;34m=\u001b[0m \u001b[0mpd\u001b[0m\u001b[0;34m.\u001b[0m\u001b[0mread_csv\u001b[0m\u001b[0;34m(\u001b[0m\u001b[0;34m\"files/fifa_20.csv\"\u001b[0m\u001b[0;34m)\u001b[0m\u001b[0;34m\u001b[0m\u001b[0;34m\u001b[0m\u001b[0m\n",
      "\u001b[0;32m~/opt/anaconda3/lib/python3.8/site-packages/pandas/io/parsers.py\u001b[0m in \u001b[0;36mread_csv\u001b[0;34m(filepath_or_buffer, sep, delimiter, header, names, index_col, usecols, squeeze, prefix, mangle_dupe_cols, dtype, engine, converters, true_values, false_values, skipinitialspace, skiprows, skipfooter, nrows, na_values, keep_default_na, na_filter, verbose, skip_blank_lines, parse_dates, infer_datetime_format, keep_date_col, date_parser, dayfirst, cache_dates, iterator, chunksize, compression, thousands, decimal, lineterminator, quotechar, quoting, doublequote, escapechar, comment, encoding, dialect, error_bad_lines, warn_bad_lines, delim_whitespace, low_memory, memory_map, float_precision, storage_options)\u001b[0m\n\u001b[1;32m    608\u001b[0m     \u001b[0mkwds\u001b[0m\u001b[0;34m.\u001b[0m\u001b[0mupdate\u001b[0m\u001b[0;34m(\u001b[0m\u001b[0mkwds_defaults\u001b[0m\u001b[0;34m)\u001b[0m\u001b[0;34m\u001b[0m\u001b[0;34m\u001b[0m\u001b[0m\n\u001b[1;32m    609\u001b[0m \u001b[0;34m\u001b[0m\u001b[0m\n\u001b[0;32m--> 610\u001b[0;31m     \u001b[0;32mreturn\u001b[0m \u001b[0m_read\u001b[0m\u001b[0;34m(\u001b[0m\u001b[0mfilepath_or_buffer\u001b[0m\u001b[0;34m,\u001b[0m \u001b[0mkwds\u001b[0m\u001b[0;34m)\u001b[0m\u001b[0;34m\u001b[0m\u001b[0;34m\u001b[0m\u001b[0m\n\u001b[0m\u001b[1;32m    611\u001b[0m \u001b[0;34m\u001b[0m\u001b[0m\n\u001b[1;32m    612\u001b[0m \u001b[0;34m\u001b[0m\u001b[0m\n",
      "\u001b[0;32m~/opt/anaconda3/lib/python3.8/site-packages/pandas/io/parsers.py\u001b[0m in \u001b[0;36m_read\u001b[0;34m(filepath_or_buffer, kwds)\u001b[0m\n\u001b[1;32m    460\u001b[0m \u001b[0;34m\u001b[0m\u001b[0m\n\u001b[1;32m    461\u001b[0m     \u001b[0;31m# Create the parser.\u001b[0m\u001b[0;34m\u001b[0m\u001b[0;34m\u001b[0m\u001b[0;34m\u001b[0m\u001b[0m\n\u001b[0;32m--> 462\u001b[0;31m     \u001b[0mparser\u001b[0m \u001b[0;34m=\u001b[0m \u001b[0mTextFileReader\u001b[0m\u001b[0;34m(\u001b[0m\u001b[0mfilepath_or_buffer\u001b[0m\u001b[0;34m,\u001b[0m \u001b[0;34m**\u001b[0m\u001b[0mkwds\u001b[0m\u001b[0;34m)\u001b[0m\u001b[0;34m\u001b[0m\u001b[0;34m\u001b[0m\u001b[0m\n\u001b[0m\u001b[1;32m    463\u001b[0m \u001b[0;34m\u001b[0m\u001b[0m\n\u001b[1;32m    464\u001b[0m     \u001b[0;32mif\u001b[0m \u001b[0mchunksize\u001b[0m \u001b[0;32mor\u001b[0m \u001b[0miterator\u001b[0m\u001b[0;34m:\u001b[0m\u001b[0;34m\u001b[0m\u001b[0;34m\u001b[0m\u001b[0m\n",
      "\u001b[0;32m~/opt/anaconda3/lib/python3.8/site-packages/pandas/io/parsers.py\u001b[0m in \u001b[0;36m__init__\u001b[0;34m(self, f, engine, **kwds)\u001b[0m\n\u001b[1;32m    817\u001b[0m             \u001b[0mself\u001b[0m\u001b[0;34m.\u001b[0m\u001b[0moptions\u001b[0m\u001b[0;34m[\u001b[0m\u001b[0;34m\"has_index_names\"\u001b[0m\u001b[0;34m]\u001b[0m \u001b[0;34m=\u001b[0m \u001b[0mkwds\u001b[0m\u001b[0;34m[\u001b[0m\u001b[0;34m\"has_index_names\"\u001b[0m\u001b[0;34m]\u001b[0m\u001b[0;34m\u001b[0m\u001b[0;34m\u001b[0m\u001b[0m\n\u001b[1;32m    818\u001b[0m \u001b[0;34m\u001b[0m\u001b[0m\n\u001b[0;32m--> 819\u001b[0;31m         \u001b[0mself\u001b[0m\u001b[0;34m.\u001b[0m\u001b[0m_engine\u001b[0m \u001b[0;34m=\u001b[0m \u001b[0mself\u001b[0m\u001b[0;34m.\u001b[0m\u001b[0m_make_engine\u001b[0m\u001b[0;34m(\u001b[0m\u001b[0mself\u001b[0m\u001b[0;34m.\u001b[0m\u001b[0mengine\u001b[0m\u001b[0;34m)\u001b[0m\u001b[0;34m\u001b[0m\u001b[0;34m\u001b[0m\u001b[0m\n\u001b[0m\u001b[1;32m    820\u001b[0m \u001b[0;34m\u001b[0m\u001b[0m\n\u001b[1;32m    821\u001b[0m     \u001b[0;32mdef\u001b[0m \u001b[0mclose\u001b[0m\u001b[0;34m(\u001b[0m\u001b[0mself\u001b[0m\u001b[0;34m)\u001b[0m\u001b[0;34m:\u001b[0m\u001b[0;34m\u001b[0m\u001b[0;34m\u001b[0m\u001b[0m\n",
      "\u001b[0;32m~/opt/anaconda3/lib/python3.8/site-packages/pandas/io/parsers.py\u001b[0m in \u001b[0;36m_make_engine\u001b[0;34m(self, engine)\u001b[0m\n\u001b[1;32m   1048\u001b[0m             )\n\u001b[1;32m   1049\u001b[0m         \u001b[0;31m# error: Too many arguments for \"ParserBase\"\u001b[0m\u001b[0;34m\u001b[0m\u001b[0;34m\u001b[0m\u001b[0;34m\u001b[0m\u001b[0m\n\u001b[0;32m-> 1050\u001b[0;31m         \u001b[0;32mreturn\u001b[0m \u001b[0mmapping\u001b[0m\u001b[0;34m[\u001b[0m\u001b[0mengine\u001b[0m\u001b[0;34m]\u001b[0m\u001b[0;34m(\u001b[0m\u001b[0mself\u001b[0m\u001b[0;34m.\u001b[0m\u001b[0mf\u001b[0m\u001b[0;34m,\u001b[0m \u001b[0;34m**\u001b[0m\u001b[0mself\u001b[0m\u001b[0;34m.\u001b[0m\u001b[0moptions\u001b[0m\u001b[0;34m)\u001b[0m  \u001b[0;31m# type: ignore[call-arg]\u001b[0m\u001b[0;34m\u001b[0m\u001b[0;34m\u001b[0m\u001b[0m\n\u001b[0m\u001b[1;32m   1051\u001b[0m \u001b[0;34m\u001b[0m\u001b[0m\n\u001b[1;32m   1052\u001b[0m     \u001b[0;32mdef\u001b[0m \u001b[0m_failover_to_python\u001b[0m\u001b[0;34m(\u001b[0m\u001b[0mself\u001b[0m\u001b[0;34m)\u001b[0m\u001b[0;34m:\u001b[0m\u001b[0;34m\u001b[0m\u001b[0;34m\u001b[0m\u001b[0m\n",
      "\u001b[0;32m~/opt/anaconda3/lib/python3.8/site-packages/pandas/io/parsers.py\u001b[0m in \u001b[0;36m__init__\u001b[0;34m(self, src, **kwds)\u001b[0m\n\u001b[1;32m   1865\u001b[0m \u001b[0;34m\u001b[0m\u001b[0m\n\u001b[1;32m   1866\u001b[0m         \u001b[0;31m# open handles\u001b[0m\u001b[0;34m\u001b[0m\u001b[0;34m\u001b[0m\u001b[0;34m\u001b[0m\u001b[0m\n\u001b[0;32m-> 1867\u001b[0;31m         \u001b[0mself\u001b[0m\u001b[0;34m.\u001b[0m\u001b[0m_open_handles\u001b[0m\u001b[0;34m(\u001b[0m\u001b[0msrc\u001b[0m\u001b[0;34m,\u001b[0m \u001b[0mkwds\u001b[0m\u001b[0;34m)\u001b[0m\u001b[0;34m\u001b[0m\u001b[0;34m\u001b[0m\u001b[0m\n\u001b[0m\u001b[1;32m   1868\u001b[0m         \u001b[0;32massert\u001b[0m \u001b[0mself\u001b[0m\u001b[0;34m.\u001b[0m\u001b[0mhandles\u001b[0m \u001b[0;32mis\u001b[0m \u001b[0;32mnot\u001b[0m \u001b[0;32mNone\u001b[0m\u001b[0;34m\u001b[0m\u001b[0;34m\u001b[0m\u001b[0m\n\u001b[1;32m   1869\u001b[0m         \u001b[0;32mfor\u001b[0m \u001b[0mkey\u001b[0m \u001b[0;32min\u001b[0m \u001b[0;34m(\u001b[0m\u001b[0;34m\"storage_options\"\u001b[0m\u001b[0;34m,\u001b[0m \u001b[0;34m\"encoding\"\u001b[0m\u001b[0;34m,\u001b[0m \u001b[0;34m\"memory_map\"\u001b[0m\u001b[0;34m,\u001b[0m \u001b[0;34m\"compression\"\u001b[0m\u001b[0;34m)\u001b[0m\u001b[0;34m:\u001b[0m\u001b[0;34m\u001b[0m\u001b[0;34m\u001b[0m\u001b[0m\n",
      "\u001b[0;32m~/opt/anaconda3/lib/python3.8/site-packages/pandas/io/parsers.py\u001b[0m in \u001b[0;36m_open_handles\u001b[0;34m(self, src, kwds)\u001b[0m\n\u001b[1;32m   1360\u001b[0m         \u001b[0mLet\u001b[0m \u001b[0mthe\u001b[0m \u001b[0mreaders\u001b[0m \u001b[0mopen\u001b[0m \u001b[0mIOHanldes\u001b[0m \u001b[0mafter\u001b[0m \u001b[0mthey\u001b[0m \u001b[0mare\u001b[0m \u001b[0mdone\u001b[0m \u001b[0;32mwith\u001b[0m \u001b[0mtheir\u001b[0m \u001b[0mpotential\u001b[0m \u001b[0mraises\u001b[0m\u001b[0;34m.\u001b[0m\u001b[0;34m\u001b[0m\u001b[0;34m\u001b[0m\u001b[0m\n\u001b[1;32m   1361\u001b[0m         \"\"\"\n\u001b[0;32m-> 1362\u001b[0;31m         self.handles = get_handle(\n\u001b[0m\u001b[1;32m   1363\u001b[0m             \u001b[0msrc\u001b[0m\u001b[0;34m,\u001b[0m\u001b[0;34m\u001b[0m\u001b[0;34m\u001b[0m\u001b[0m\n\u001b[1;32m   1364\u001b[0m             \u001b[0;34m\"r\"\u001b[0m\u001b[0;34m,\u001b[0m\u001b[0;34m\u001b[0m\u001b[0;34m\u001b[0m\u001b[0m\n",
      "\u001b[0;32m~/opt/anaconda3/lib/python3.8/site-packages/pandas/io/common.py\u001b[0m in \u001b[0;36mget_handle\u001b[0;34m(path_or_buf, mode, encoding, compression, memory_map, is_text, errors, storage_options)\u001b[0m\n\u001b[1;32m    640\u001b[0m                 \u001b[0merrors\u001b[0m \u001b[0;34m=\u001b[0m \u001b[0;34m\"replace\"\u001b[0m\u001b[0;34m\u001b[0m\u001b[0;34m\u001b[0m\u001b[0m\n\u001b[1;32m    641\u001b[0m             \u001b[0;31m# Encoding\u001b[0m\u001b[0;34m\u001b[0m\u001b[0;34m\u001b[0m\u001b[0;34m\u001b[0m\u001b[0m\n\u001b[0;32m--> 642\u001b[0;31m             handle = open(\n\u001b[0m\u001b[1;32m    643\u001b[0m                 \u001b[0mhandle\u001b[0m\u001b[0;34m,\u001b[0m\u001b[0;34m\u001b[0m\u001b[0;34m\u001b[0m\u001b[0m\n\u001b[1;32m    644\u001b[0m                 \u001b[0mioargs\u001b[0m\u001b[0;34m.\u001b[0m\u001b[0mmode\u001b[0m\u001b[0;34m,\u001b[0m\u001b[0;34m\u001b[0m\u001b[0;34m\u001b[0m\u001b[0m\n",
      "\u001b[0;31mFileNotFoundError\u001b[0m: [Errno 2] No such file or directory: 'files/fifa_21.csv'"
     ]
    }
   ],
   "source": [
    "fifa_22 = pd.read_csv(\"files/fifa_22.csv\")\n",
    "fifa_21 = pd.read_csv(\"files/fifa_21.csv\")\n",
    "fifa_20 = pd.read_csv(\"files/fifa_20.csv\")"
   ]
  },
  {
   "cell_type": "code",
   "execution_count": 4,
   "id": "e04865cf",
   "metadata": {},
   "outputs": [
    {
     "name": "stdout",
     "output_type": "stream",
     "text": [
      "(19239, 110)\n"
     ]
    },
    {
     "ename": "NameError",
     "evalue": "name 'fifa_21' is not defined",
     "output_type": "error",
     "traceback": [
      "\u001b[0;31m---------------------------------------------------------------------------\u001b[0m",
      "\u001b[0;31mNameError\u001b[0m                                 Traceback (most recent call last)",
      "\u001b[0;32m<ipython-input-4-b0a61fb5d090>\u001b[0m in \u001b[0;36m<module>\u001b[0;34m\u001b[0m\n\u001b[0;32m----> 1\u001b[0;31m \u001b[0mprint\u001b[0m\u001b[0;34m(\u001b[0m\u001b[0mfifa_22\u001b[0m\u001b[0;34m.\u001b[0m\u001b[0mshape\u001b[0m\u001b[0;34m)\u001b[0m\u001b[0;34m,\u001b[0m \u001b[0mprint\u001b[0m\u001b[0;34m(\u001b[0m\u001b[0mfifa_21\u001b[0m\u001b[0;34m.\u001b[0m\u001b[0mshape\u001b[0m\u001b[0;34m)\u001b[0m\u001b[0;34m,\u001b[0m \u001b[0mprint\u001b[0m\u001b[0;34m(\u001b[0m\u001b[0mfifa_20\u001b[0m\u001b[0;34m.\u001b[0m\u001b[0mshape\u001b[0m\u001b[0;34m)\u001b[0m\u001b[0;34m\u001b[0m\u001b[0;34m\u001b[0m\u001b[0m\n\u001b[0m",
      "\u001b[0;31mNameError\u001b[0m: name 'fifa_21' is not defined"
     ]
    }
   ],
   "source": [
    "print(fifa_22.shape), print(fifa_21.shape), print(fifa_20.shape)"
   ]
  },
  {
   "cell_type": "code",
   "execution_count": 5,
   "id": "0fe7f43c",
   "metadata": {},
   "outputs": [
    {
     "ename": "NameError",
     "evalue": "name 'fifa_21' is not defined",
     "output_type": "error",
     "traceback": [
      "\u001b[0;31m---------------------------------------------------------------------------\u001b[0m",
      "\u001b[0;31mNameError\u001b[0m                                 Traceback (most recent call last)",
      "\u001b[0;32m<ipython-input-5-7968e1a1d400>\u001b[0m in \u001b[0;36m<module>\u001b[0;34m\u001b[0m\n\u001b[1;32m      1\u001b[0m \u001b[0;31m#cleaning the data by dropping columns that are not includeded in our analysis\u001b[0m\u001b[0;34m\u001b[0m\u001b[0;34m\u001b[0m\u001b[0;34m\u001b[0m\u001b[0m\n\u001b[1;32m      2\u001b[0m \u001b[0mf22\u001b[0m \u001b[0;34m=\u001b[0m \u001b[0mfifa_22\u001b[0m\u001b[0;34m.\u001b[0m\u001b[0mdrop\u001b[0m\u001b[0;34m(\u001b[0m\u001b[0;34m[\u001b[0m\u001b[0;34m'player_positions'\u001b[0m\u001b[0;34m,\u001b[0m\u001b[0;34m'sofifa_id'\u001b[0m\u001b[0;34m,\u001b[0m \u001b[0;34m'player_url'\u001b[0m\u001b[0;34m,\u001b[0m \u001b[0;34m'long_name'\u001b[0m\u001b[0;34m,\u001b[0m \u001b[0;34m'value_eur'\u001b[0m\u001b[0;34m,\u001b[0m\u001b[0;34m'dob'\u001b[0m\u001b[0;34m,\u001b[0m\u001b[0;34m'club_team_id'\u001b[0m\u001b[0;34m,\u001b[0m\u001b[0;34m'club_jersey_number'\u001b[0m\u001b[0;34m,\u001b[0m \u001b[0;34m'club_loaned_from'\u001b[0m\u001b[0;34m,\u001b[0m \u001b[0;34m'club_joined'\u001b[0m\u001b[0;34m,\u001b[0m \u001b[0;34m'club_contract_valid_until'\u001b[0m\u001b[0;34m,\u001b[0m \u001b[0;34m'nationality_id'\u001b[0m\u001b[0;34m,\u001b[0m \u001b[0;34m'nation_team_id'\u001b[0m\u001b[0;34m,\u001b[0m \u001b[0;34m'nation_position'\u001b[0m\u001b[0;34m,\u001b[0m\u001b[0;34m'dob'\u001b[0m\u001b[0;34m,\u001b[0m\u001b[0;34m'club_team_id'\u001b[0m\u001b[0;34m,\u001b[0m\u001b[0;34m'club_jersey_number'\u001b[0m\u001b[0;34m,\u001b[0m \u001b[0;34m'nation_jersey_number'\u001b[0m\u001b[0;34m,\u001b[0m \u001b[0;34m'body_type'\u001b[0m\u001b[0;34m,\u001b[0m \u001b[0;34m'real_face'\u001b[0m\u001b[0;34m,\u001b[0m \u001b[0;34m'release_clause_eur'\u001b[0m\u001b[0;34m,\u001b[0m \u001b[0;34m'ls'\u001b[0m\u001b[0;34m,\u001b[0m\u001b[0;34m'st'\u001b[0m\u001b[0;34m,\u001b[0m\u001b[0;34m'rs'\u001b[0m\u001b[0;34m,\u001b[0m\u001b[0;34m'lw'\u001b[0m\u001b[0;34m,\u001b[0m \u001b[0;34m'lf'\u001b[0m\u001b[0;34m,\u001b[0m \u001b[0;34m'cf'\u001b[0m\u001b[0;34m,\u001b[0m \u001b[0;34m'rf'\u001b[0m\u001b[0;34m,\u001b[0m \u001b[0;34m'rw'\u001b[0m\u001b[0;34m,\u001b[0m \u001b[0;34m'lam'\u001b[0m\u001b[0;34m,\u001b[0m \u001b[0;34m'cam'\u001b[0m\u001b[0;34m,\u001b[0m\u001b[0;34m'ram'\u001b[0m\u001b[0;34m,\u001b[0m\u001b[0;34m'lm'\u001b[0m\u001b[0;34m,\u001b[0m\u001b[0;34m'lcm'\u001b[0m\u001b[0;34m,\u001b[0m \u001b[0;34m'cm'\u001b[0m\u001b[0;34m,\u001b[0m \u001b[0;34m'rcm'\u001b[0m\u001b[0;34m,\u001b[0m \u001b[0;34m'rm'\u001b[0m\u001b[0;34m,\u001b[0m\u001b[0;34m'lwb'\u001b[0m\u001b[0;34m,\u001b[0m \u001b[0;34m'ldm'\u001b[0m\u001b[0;34m,\u001b[0m \u001b[0;34m'cdm'\u001b[0m\u001b[0;34m,\u001b[0m \u001b[0;34m'rdm'\u001b[0m\u001b[0;34m,\u001b[0m \u001b[0;34m'rwb'\u001b[0m\u001b[0;34m,\u001b[0m \u001b[0;34m'lb'\u001b[0m\u001b[0;34m,\u001b[0m \u001b[0;34m'lcb'\u001b[0m\u001b[0;34m,\u001b[0m\u001b[0;34m'cb'\u001b[0m\u001b[0;34m,\u001b[0m\u001b[0;34m'rcb'\u001b[0m\u001b[0;34m,\u001b[0m\u001b[0;34m'rb'\u001b[0m\u001b[0;34m,\u001b[0m \u001b[0;34m'gk'\u001b[0m\u001b[0;34m,\u001b[0m \u001b[0;34m'player_face_url'\u001b[0m\u001b[0;34m,\u001b[0m \u001b[0;34m'club_logo_url'\u001b[0m\u001b[0;34m,\u001b[0m \u001b[0;34m'club_flag_url'\u001b[0m\u001b[0;34m,\u001b[0m \u001b[0;34m'nation_logo_url'\u001b[0m\u001b[0;34m,\u001b[0m\u001b[0;34m'nation_flag_url'\u001b[0m\u001b[0;34m,\u001b[0m \u001b[0;34m'goalkeeping_diving'\u001b[0m\u001b[0;34m,\u001b[0m \u001b[0;34m'goalkeeping_handling'\u001b[0m\u001b[0;34m,\u001b[0m \u001b[0;34m'goalkeeping_kicking'\u001b[0m\u001b[0;34m,\u001b[0m \u001b[0;34m'goalkeeping_positioning'\u001b[0m\u001b[0;34m,\u001b[0m \u001b[0;34m'goalkeeping_reflexes'\u001b[0m\u001b[0;34m,\u001b[0m \u001b[0;34m'goalkeeping_speed'\u001b[0m\u001b[0;34m,\u001b[0m \u001b[0;34m'player_tags'\u001b[0m\u001b[0;34m,\u001b[0m \u001b[0;34m'player_traits'\u001b[0m\u001b[0;34m]\u001b[0m\u001b[0;34m,\u001b[0m \u001b[0maxis\u001b[0m\u001b[0;34m=\u001b[0m\u001b[0;36m1\u001b[0m\u001b[0;34m)\u001b[0m\u001b[0;34m\u001b[0m\u001b[0;34m\u001b[0m\u001b[0m\n\u001b[0;32m----> 3\u001b[0;31m \u001b[0mf21\u001b[0m \u001b[0;34m=\u001b[0m \u001b[0mfifa_21\u001b[0m\u001b[0;34m.\u001b[0m\u001b[0mdrop\u001b[0m\u001b[0;34m(\u001b[0m\u001b[0;34m[\u001b[0m\u001b[0;34m'player_positions'\u001b[0m\u001b[0;34m,\u001b[0m\u001b[0;34m'sofifa_id'\u001b[0m\u001b[0;34m,\u001b[0m \u001b[0;34m'player_url'\u001b[0m\u001b[0;34m,\u001b[0m \u001b[0;34m'long_name'\u001b[0m\u001b[0;34m,\u001b[0m \u001b[0;34m'value_eur'\u001b[0m\u001b[0;34m,\u001b[0m\u001b[0;34m'dob'\u001b[0m\u001b[0;34m,\u001b[0m\u001b[0;34m'club_team_id'\u001b[0m\u001b[0;34m,\u001b[0m\u001b[0;34m'club_jersey_number'\u001b[0m\u001b[0;34m,\u001b[0m \u001b[0;34m'club_loaned_from'\u001b[0m\u001b[0;34m,\u001b[0m \u001b[0;34m'club_joined'\u001b[0m\u001b[0;34m,\u001b[0m \u001b[0;34m'club_contract_valid_until'\u001b[0m\u001b[0;34m,\u001b[0m \u001b[0;34m'nationality_id'\u001b[0m\u001b[0;34m,\u001b[0m \u001b[0;34m'nation_team_id'\u001b[0m\u001b[0;34m,\u001b[0m \u001b[0;34m'nation_position'\u001b[0m\u001b[0;34m,\u001b[0m\u001b[0;34m'dob'\u001b[0m\u001b[0;34m,\u001b[0m\u001b[0;34m'club_team_id'\u001b[0m\u001b[0;34m,\u001b[0m\u001b[0;34m'club_jersey_number'\u001b[0m\u001b[0;34m,\u001b[0m \u001b[0;34m'nation_jersey_number'\u001b[0m\u001b[0;34m,\u001b[0m \u001b[0;34m'body_type'\u001b[0m\u001b[0;34m,\u001b[0m \u001b[0;34m'real_face'\u001b[0m\u001b[0;34m,\u001b[0m \u001b[0;34m'release_clause_eur'\u001b[0m\u001b[0;34m,\u001b[0m \u001b[0;34m'ls'\u001b[0m\u001b[0;34m,\u001b[0m\u001b[0;34m'st'\u001b[0m\u001b[0;34m,\u001b[0m\u001b[0;34m'rs'\u001b[0m\u001b[0;34m,\u001b[0m\u001b[0;34m'lw'\u001b[0m\u001b[0;34m,\u001b[0m \u001b[0;34m'lf'\u001b[0m\u001b[0;34m,\u001b[0m \u001b[0;34m'cf'\u001b[0m\u001b[0;34m,\u001b[0m \u001b[0;34m'rf'\u001b[0m\u001b[0;34m,\u001b[0m \u001b[0;34m'rw'\u001b[0m\u001b[0;34m,\u001b[0m \u001b[0;34m'lam'\u001b[0m\u001b[0;34m,\u001b[0m \u001b[0;34m'cam'\u001b[0m\u001b[0;34m,\u001b[0m\u001b[0;34m'ram'\u001b[0m\u001b[0;34m,\u001b[0m\u001b[0;34m'lm'\u001b[0m\u001b[0;34m,\u001b[0m\u001b[0;34m'lcm'\u001b[0m\u001b[0;34m,\u001b[0m \u001b[0;34m'cm'\u001b[0m\u001b[0;34m,\u001b[0m \u001b[0;34m'rcm'\u001b[0m\u001b[0;34m,\u001b[0m \u001b[0;34m'rm'\u001b[0m\u001b[0;34m,\u001b[0m\u001b[0;34m'lwb'\u001b[0m\u001b[0;34m,\u001b[0m \u001b[0;34m'ldm'\u001b[0m\u001b[0;34m,\u001b[0m \u001b[0;34m'cdm'\u001b[0m\u001b[0;34m,\u001b[0m \u001b[0;34m'rdm'\u001b[0m\u001b[0;34m,\u001b[0m \u001b[0;34m'rwb'\u001b[0m\u001b[0;34m,\u001b[0m \u001b[0;34m'lb'\u001b[0m\u001b[0;34m,\u001b[0m \u001b[0;34m'lcb'\u001b[0m\u001b[0;34m,\u001b[0m\u001b[0;34m'cb'\u001b[0m\u001b[0;34m,\u001b[0m\u001b[0;34m'rcb'\u001b[0m\u001b[0;34m,\u001b[0m\u001b[0;34m'rb'\u001b[0m\u001b[0;34m,\u001b[0m \u001b[0;34m'gk'\u001b[0m\u001b[0;34m,\u001b[0m \u001b[0;34m'player_face_url'\u001b[0m\u001b[0;34m,\u001b[0m \u001b[0;34m'club_logo_url'\u001b[0m\u001b[0;34m,\u001b[0m \u001b[0;34m'club_flag_url'\u001b[0m\u001b[0;34m,\u001b[0m \u001b[0;34m'nation_logo_url'\u001b[0m\u001b[0;34m,\u001b[0m\u001b[0;34m'nation_flag_url'\u001b[0m\u001b[0;34m,\u001b[0m \u001b[0;34m'goalkeeping_diving'\u001b[0m\u001b[0;34m,\u001b[0m \u001b[0;34m'goalkeeping_handling'\u001b[0m\u001b[0;34m,\u001b[0m \u001b[0;34m'goalkeeping_kicking'\u001b[0m\u001b[0;34m,\u001b[0m \u001b[0;34m'goalkeeping_positioning'\u001b[0m\u001b[0;34m,\u001b[0m \u001b[0;34m'goalkeeping_reflexes'\u001b[0m\u001b[0;34m,\u001b[0m \u001b[0;34m'goalkeeping_speed'\u001b[0m\u001b[0;34m,\u001b[0m \u001b[0;34m'player_tags'\u001b[0m\u001b[0;34m,\u001b[0m \u001b[0;34m'player_traits'\u001b[0m \u001b[0;34m]\u001b[0m\u001b[0;34m,\u001b[0m \u001b[0maxis\u001b[0m\u001b[0;34m=\u001b[0m\u001b[0;36m1\u001b[0m\u001b[0;34m)\u001b[0m\u001b[0;34m\u001b[0m\u001b[0;34m\u001b[0m\u001b[0m\n\u001b[0m\u001b[1;32m      4\u001b[0m \u001b[0mf20\u001b[0m \u001b[0;34m=\u001b[0m \u001b[0mfifa_20\u001b[0m\u001b[0;34m.\u001b[0m\u001b[0mdrop\u001b[0m\u001b[0;34m(\u001b[0m\u001b[0;34m[\u001b[0m\u001b[0;34m'player_positions'\u001b[0m\u001b[0;34m,\u001b[0m\u001b[0;34m'sofifa_id'\u001b[0m\u001b[0;34m,\u001b[0m \u001b[0;34m'player_url'\u001b[0m\u001b[0;34m,\u001b[0m \u001b[0;34m'long_name'\u001b[0m\u001b[0;34m,\u001b[0m \u001b[0;34m'value_eur'\u001b[0m\u001b[0;34m,\u001b[0m\u001b[0;34m'dob'\u001b[0m\u001b[0;34m,\u001b[0m\u001b[0;34m'club_team_id'\u001b[0m\u001b[0;34m,\u001b[0m\u001b[0;34m'club_jersey_number'\u001b[0m\u001b[0;34m,\u001b[0m \u001b[0;34m'club_loaned_from'\u001b[0m\u001b[0;34m,\u001b[0m \u001b[0;34m'club_joined'\u001b[0m\u001b[0;34m,\u001b[0m \u001b[0;34m'club_contract_valid_until'\u001b[0m\u001b[0;34m,\u001b[0m \u001b[0;34m'nationality_id'\u001b[0m\u001b[0;34m,\u001b[0m \u001b[0;34m'nation_team_id'\u001b[0m\u001b[0;34m,\u001b[0m \u001b[0;34m'nation_position'\u001b[0m\u001b[0;34m,\u001b[0m\u001b[0;34m'dob'\u001b[0m\u001b[0;34m,\u001b[0m\u001b[0;34m'club_team_id'\u001b[0m\u001b[0;34m,\u001b[0m\u001b[0;34m'club_jersey_number'\u001b[0m\u001b[0;34m,\u001b[0m \u001b[0;34m'nation_jersey_number'\u001b[0m\u001b[0;34m,\u001b[0m \u001b[0;34m'body_type'\u001b[0m\u001b[0;34m,\u001b[0m \u001b[0;34m'real_face'\u001b[0m\u001b[0;34m,\u001b[0m \u001b[0;34m'release_clause_eur'\u001b[0m\u001b[0;34m,\u001b[0m \u001b[0;34m'ls'\u001b[0m\u001b[0;34m,\u001b[0m\u001b[0;34m'st'\u001b[0m\u001b[0;34m,\u001b[0m\u001b[0;34m'rs'\u001b[0m\u001b[0;34m,\u001b[0m\u001b[0;34m'lw'\u001b[0m\u001b[0;34m,\u001b[0m \u001b[0;34m'lf'\u001b[0m\u001b[0;34m,\u001b[0m \u001b[0;34m'cf'\u001b[0m\u001b[0;34m,\u001b[0m \u001b[0;34m'rf'\u001b[0m\u001b[0;34m,\u001b[0m \u001b[0;34m'rw'\u001b[0m\u001b[0;34m,\u001b[0m \u001b[0;34m'lam'\u001b[0m\u001b[0;34m,\u001b[0m \u001b[0;34m'cam'\u001b[0m\u001b[0;34m,\u001b[0m\u001b[0;34m'ram'\u001b[0m\u001b[0;34m,\u001b[0m\u001b[0;34m'lm'\u001b[0m\u001b[0;34m,\u001b[0m\u001b[0;34m'lcm'\u001b[0m\u001b[0;34m,\u001b[0m \u001b[0;34m'cm'\u001b[0m\u001b[0;34m,\u001b[0m \u001b[0;34m'rcm'\u001b[0m\u001b[0;34m,\u001b[0m \u001b[0;34m'rm'\u001b[0m\u001b[0;34m,\u001b[0m\u001b[0;34m'lwb'\u001b[0m\u001b[0;34m,\u001b[0m \u001b[0;34m'ldm'\u001b[0m\u001b[0;34m,\u001b[0m \u001b[0;34m'cdm'\u001b[0m\u001b[0;34m,\u001b[0m \u001b[0;34m'rdm'\u001b[0m\u001b[0;34m,\u001b[0m \u001b[0;34m'rwb'\u001b[0m\u001b[0;34m,\u001b[0m \u001b[0;34m'lb'\u001b[0m\u001b[0;34m,\u001b[0m \u001b[0;34m'lcb'\u001b[0m\u001b[0;34m,\u001b[0m\u001b[0;34m'cb'\u001b[0m\u001b[0;34m,\u001b[0m\u001b[0;34m'rcb'\u001b[0m\u001b[0;34m,\u001b[0m\u001b[0;34m'rb'\u001b[0m\u001b[0;34m,\u001b[0m \u001b[0;34m'gk'\u001b[0m\u001b[0;34m,\u001b[0m \u001b[0;34m'player_face_url'\u001b[0m\u001b[0;34m,\u001b[0m \u001b[0;34m'club_logo_url'\u001b[0m\u001b[0;34m,\u001b[0m \u001b[0;34m'club_flag_url'\u001b[0m\u001b[0;34m,\u001b[0m \u001b[0;34m'nation_logo_url'\u001b[0m\u001b[0;34m,\u001b[0m\u001b[0;34m'nation_flag_url'\u001b[0m\u001b[0;34m,\u001b[0m \u001b[0;34m'goalkeeping_diving'\u001b[0m\u001b[0;34m,\u001b[0m \u001b[0;34m'goalkeeping_handling'\u001b[0m\u001b[0;34m,\u001b[0m \u001b[0;34m'goalkeeping_kicking'\u001b[0m\u001b[0;34m,\u001b[0m \u001b[0;34m'goalkeeping_positioning'\u001b[0m\u001b[0;34m,\u001b[0m \u001b[0;34m'goalkeeping_reflexes'\u001b[0m\u001b[0;34m,\u001b[0m \u001b[0;34m'goalkeeping_speed'\u001b[0m\u001b[0;34m,\u001b[0m \u001b[0;34m'player_tags'\u001b[0m\u001b[0;34m,\u001b[0m \u001b[0;34m'player_traits'\u001b[0m \u001b[0;34m]\u001b[0m\u001b[0;34m,\u001b[0m \u001b[0maxis\u001b[0m\u001b[0;34m=\u001b[0m\u001b[0;36m1\u001b[0m\u001b[0;34m)\u001b[0m\u001b[0;34m\u001b[0m\u001b[0;34m\u001b[0m\u001b[0m\n",
      "\u001b[0;31mNameError\u001b[0m: name 'fifa_21' is not defined"
     ]
    }
   ],
   "source": [
    "#cleaning the data by dropping columns that are not includeded in our analysis\n",
    "f22 = fifa_22.drop(['player_positions','sofifa_id', 'player_url', 'long_name', 'value_eur','dob','club_team_id','club_jersey_number', 'club_loaned_from', 'club_joined', 'club_contract_valid_until', 'nationality_id', 'nation_team_id', 'nation_position','dob','club_team_id','club_jersey_number', 'nation_jersey_number', 'body_type', 'real_face', 'release_clause_eur', 'ls','st','rs','lw', 'lf', 'cf', 'rf', 'rw', 'lam', 'cam','ram','lm','lcm', 'cm', 'rcm', 'rm','lwb', 'ldm', 'cdm', 'rdm', 'rwb', 'lb', 'lcb','cb','rcb','rb', 'gk', 'player_face_url', 'club_logo_url', 'club_flag_url', 'nation_logo_url','nation_flag_url', 'goalkeeping_diving', 'goalkeeping_handling', 'goalkeeping_kicking', 'goalkeeping_positioning', 'goalkeeping_reflexes', 'goalkeeping_speed', 'player_tags', 'player_traits'], axis=1) \n",
    "f21 = fifa_21.drop(['player_positions','sofifa_id', 'player_url', 'long_name', 'value_eur','dob','club_team_id','club_jersey_number', 'club_loaned_from', 'club_joined', 'club_contract_valid_until', 'nationality_id', 'nation_team_id', 'nation_position','dob','club_team_id','club_jersey_number', 'nation_jersey_number', 'body_type', 'real_face', 'release_clause_eur', 'ls','st','rs','lw', 'lf', 'cf', 'rf', 'rw', 'lam', 'cam','ram','lm','lcm', 'cm', 'rcm', 'rm','lwb', 'ldm', 'cdm', 'rdm', 'rwb', 'lb', 'lcb','cb','rcb','rb', 'gk', 'player_face_url', 'club_logo_url', 'club_flag_url', 'nation_logo_url','nation_flag_url', 'goalkeeping_diving', 'goalkeeping_handling', 'goalkeeping_kicking', 'goalkeeping_positioning', 'goalkeeping_reflexes', 'goalkeeping_speed', 'player_tags', 'player_traits' ], axis=1) \n",
    "f20 = fifa_20.drop(['player_positions','sofifa_id', 'player_url', 'long_name', 'value_eur','dob','club_team_id','club_jersey_number', 'club_loaned_from', 'club_joined', 'club_contract_valid_until', 'nationality_id', 'nation_team_id', 'nation_position','dob','club_team_id','club_jersey_number', 'nation_jersey_number', 'body_type', 'real_face', 'release_clause_eur', 'ls','st','rs','lw', 'lf', 'cf', 'rf', 'rw', 'lam', 'cam','ram','lm','lcm', 'cm', 'rcm', 'rm','lwb', 'ldm', 'cdm', 'rdm', 'rwb', 'lb', 'lcb','cb','rcb','rb', 'gk', 'player_face_url', 'club_logo_url', 'club_flag_url', 'nation_logo_url','nation_flag_url', 'goalkeeping_diving', 'goalkeeping_handling', 'goalkeeping_kicking', 'goalkeeping_positioning', 'goalkeeping_reflexes', 'goalkeeping_speed', 'player_tags', 'player_traits' ], axis=1) \n"
   ]
  },
  {
   "cell_type": "code",
   "execution_count": 6,
   "id": "9459a5b3",
   "metadata": {},
   "outputs": [
    {
     "name": "stdout",
     "output_type": "stream",
     "text": [
      "(19239, 52)\n"
     ]
    },
    {
     "ename": "NameError",
     "evalue": "name 'f21' is not defined",
     "output_type": "error",
     "traceback": [
      "\u001b[0;31m---------------------------------------------------------------------------\u001b[0m",
      "\u001b[0;31mNameError\u001b[0m                                 Traceback (most recent call last)",
      "\u001b[0;32m<ipython-input-6-77e42c61c512>\u001b[0m in \u001b[0;36m<module>\u001b[0;34m\u001b[0m\n\u001b[1;32m      1\u001b[0m \u001b[0mprint\u001b[0m\u001b[0;34m(\u001b[0m\u001b[0mf22\u001b[0m\u001b[0;34m.\u001b[0m\u001b[0mshape\u001b[0m\u001b[0;34m)\u001b[0m\u001b[0;34m\u001b[0m\u001b[0;34m\u001b[0m\u001b[0m\n\u001b[0;32m----> 2\u001b[0;31m \u001b[0mprint\u001b[0m\u001b[0;34m(\u001b[0m\u001b[0mf21\u001b[0m\u001b[0;34m.\u001b[0m\u001b[0mshape\u001b[0m\u001b[0;34m)\u001b[0m\u001b[0;34m\u001b[0m\u001b[0;34m\u001b[0m\u001b[0m\n\u001b[0m",
      "\u001b[0;31mNameError\u001b[0m: name 'f21' is not defined"
     ]
    }
   ],
   "source": [
    "print(f22.shape)\n",
    "print(f21.shape)"
   ]
  },
  {
   "cell_type": "code",
   "execution_count": 7,
   "id": "2c749b67",
   "metadata": {},
   "outputs": [
    {
     "data": {
      "text/html": [
       "<div>\n",
       "<style scoped>\n",
       "    .dataframe tbody tr th:only-of-type {\n",
       "        vertical-align: middle;\n",
       "    }\n",
       "\n",
       "    .dataframe tbody tr th {\n",
       "        vertical-align: top;\n",
       "    }\n",
       "\n",
       "    .dataframe thead th {\n",
       "        text-align: right;\n",
       "    }\n",
       "</style>\n",
       "<table border=\"1\" class=\"dataframe\">\n",
       "  <thead>\n",
       "    <tr style=\"text-align: right;\">\n",
       "      <th></th>\n",
       "      <th>short_name</th>\n",
       "      <th>overall</th>\n",
       "      <th>potential</th>\n",
       "      <th>wage_eur</th>\n",
       "      <th>age</th>\n",
       "      <th>height_cm</th>\n",
       "      <th>weight_kg</th>\n",
       "      <th>club_name</th>\n",
       "      <th>league_name</th>\n",
       "      <th>league_level</th>\n",
       "      <th>...</th>\n",
       "      <th>power_long_shots</th>\n",
       "      <th>mentality_aggression</th>\n",
       "      <th>mentality_interceptions</th>\n",
       "      <th>mentality_positioning</th>\n",
       "      <th>mentality_vision</th>\n",
       "      <th>mentality_penalties</th>\n",
       "      <th>mentality_composure</th>\n",
       "      <th>defending_marking_awareness</th>\n",
       "      <th>defending_standing_tackle</th>\n",
       "      <th>defending_sliding_tackle</th>\n",
       "    </tr>\n",
       "  </thead>\n",
       "  <tbody>\n",
       "    <tr>\n",
       "      <th>0</th>\n",
       "      <td>L. Messi</td>\n",
       "      <td>93</td>\n",
       "      <td>93</td>\n",
       "      <td>320000.0</td>\n",
       "      <td>34</td>\n",
       "      <td>170</td>\n",
       "      <td>72</td>\n",
       "      <td>Paris Saint-Germain</td>\n",
       "      <td>French Ligue 1</td>\n",
       "      <td>1.0</td>\n",
       "      <td>...</td>\n",
       "      <td>94</td>\n",
       "      <td>44</td>\n",
       "      <td>40</td>\n",
       "      <td>93</td>\n",
       "      <td>95</td>\n",
       "      <td>75</td>\n",
       "      <td>96</td>\n",
       "      <td>20</td>\n",
       "      <td>35</td>\n",
       "      <td>24</td>\n",
       "    </tr>\n",
       "    <tr>\n",
       "      <th>1</th>\n",
       "      <td>R. Lewandowski</td>\n",
       "      <td>92</td>\n",
       "      <td>92</td>\n",
       "      <td>270000.0</td>\n",
       "      <td>32</td>\n",
       "      <td>185</td>\n",
       "      <td>81</td>\n",
       "      <td>FC Bayern München</td>\n",
       "      <td>German 1. Bundesliga</td>\n",
       "      <td>1.0</td>\n",
       "      <td>...</td>\n",
       "      <td>87</td>\n",
       "      <td>81</td>\n",
       "      <td>49</td>\n",
       "      <td>95</td>\n",
       "      <td>81</td>\n",
       "      <td>90</td>\n",
       "      <td>88</td>\n",
       "      <td>35</td>\n",
       "      <td>42</td>\n",
       "      <td>19</td>\n",
       "    </tr>\n",
       "    <tr>\n",
       "      <th>2</th>\n",
       "      <td>Cristiano Ronaldo</td>\n",
       "      <td>91</td>\n",
       "      <td>91</td>\n",
       "      <td>270000.0</td>\n",
       "      <td>36</td>\n",
       "      <td>187</td>\n",
       "      <td>83</td>\n",
       "      <td>Manchester United</td>\n",
       "      <td>English Premier League</td>\n",
       "      <td>1.0</td>\n",
       "      <td>...</td>\n",
       "      <td>93</td>\n",
       "      <td>63</td>\n",
       "      <td>29</td>\n",
       "      <td>95</td>\n",
       "      <td>76</td>\n",
       "      <td>88</td>\n",
       "      <td>95</td>\n",
       "      <td>24</td>\n",
       "      <td>32</td>\n",
       "      <td>24</td>\n",
       "    </tr>\n",
       "    <tr>\n",
       "      <th>3</th>\n",
       "      <td>Neymar Jr</td>\n",
       "      <td>91</td>\n",
       "      <td>91</td>\n",
       "      <td>270000.0</td>\n",
       "      <td>29</td>\n",
       "      <td>175</td>\n",
       "      <td>68</td>\n",
       "      <td>Paris Saint-Germain</td>\n",
       "      <td>French Ligue 1</td>\n",
       "      <td>1.0</td>\n",
       "      <td>...</td>\n",
       "      <td>81</td>\n",
       "      <td>63</td>\n",
       "      <td>37</td>\n",
       "      <td>86</td>\n",
       "      <td>90</td>\n",
       "      <td>93</td>\n",
       "      <td>93</td>\n",
       "      <td>35</td>\n",
       "      <td>32</td>\n",
       "      <td>29</td>\n",
       "    </tr>\n",
       "    <tr>\n",
       "      <th>4</th>\n",
       "      <td>K. De Bruyne</td>\n",
       "      <td>91</td>\n",
       "      <td>91</td>\n",
       "      <td>350000.0</td>\n",
       "      <td>30</td>\n",
       "      <td>181</td>\n",
       "      <td>70</td>\n",
       "      <td>Manchester City</td>\n",
       "      <td>English Premier League</td>\n",
       "      <td>1.0</td>\n",
       "      <td>...</td>\n",
       "      <td>91</td>\n",
       "      <td>76</td>\n",
       "      <td>66</td>\n",
       "      <td>88</td>\n",
       "      <td>94</td>\n",
       "      <td>83</td>\n",
       "      <td>89</td>\n",
       "      <td>68</td>\n",
       "      <td>65</td>\n",
       "      <td>53</td>\n",
       "    </tr>\n",
       "  </tbody>\n",
       "</table>\n",
       "<p>5 rows × 52 columns</p>\n",
       "</div>"
      ],
      "text/plain": [
       "          short_name  overall  potential  wage_eur  age  height_cm  weight_kg  \\\n",
       "0           L. Messi       93         93  320000.0   34        170         72   \n",
       "1     R. Lewandowski       92         92  270000.0   32        185         81   \n",
       "2  Cristiano Ronaldo       91         91  270000.0   36        187         83   \n",
       "3          Neymar Jr       91         91  270000.0   29        175         68   \n",
       "4       K. De Bruyne       91         91  350000.0   30        181         70   \n",
       "\n",
       "             club_name             league_name  league_level  ...  \\\n",
       "0  Paris Saint-Germain          French Ligue 1           1.0  ...   \n",
       "1    FC Bayern München    German 1. Bundesliga           1.0  ...   \n",
       "2    Manchester United  English Premier League           1.0  ...   \n",
       "3  Paris Saint-Germain          French Ligue 1           1.0  ...   \n",
       "4      Manchester City  English Premier League           1.0  ...   \n",
       "\n",
       "  power_long_shots mentality_aggression mentality_interceptions  \\\n",
       "0               94                   44                      40   \n",
       "1               87                   81                      49   \n",
       "2               93                   63                      29   \n",
       "3               81                   63                      37   \n",
       "4               91                   76                      66   \n",
       "\n",
       "   mentality_positioning  mentality_vision  mentality_penalties  \\\n",
       "0                     93                95                   75   \n",
       "1                     95                81                   90   \n",
       "2                     95                76                   88   \n",
       "3                     86                90                   93   \n",
       "4                     88                94                   83   \n",
       "\n",
       "  mentality_composure  defending_marking_awareness  defending_standing_tackle  \\\n",
       "0                  96                           20                         35   \n",
       "1                  88                           35                         42   \n",
       "2                  95                           24                         32   \n",
       "3                  93                           35                         32   \n",
       "4                  89                           68                         65   \n",
       "\n",
       "   defending_sliding_tackle  \n",
       "0                        24  \n",
       "1                        19  \n",
       "2                        24  \n",
       "3                        29  \n",
       "4                        53  \n",
       "\n",
       "[5 rows x 52 columns]"
      ]
     },
     "execution_count": 7,
     "metadata": {},
     "output_type": "execute_result"
    }
   ],
   "source": [
    "f22.head()"
   ]
  },
  {
   "cell_type": "code",
   "execution_count": 8,
   "id": "dab637c5",
   "metadata": {},
   "outputs": [
    {
     "ename": "NameError",
     "evalue": "name 'f21' is not defined",
     "output_type": "error",
     "traceback": [
      "\u001b[0;31m---------------------------------------------------------------------------\u001b[0m",
      "\u001b[0;31mNameError\u001b[0m                                 Traceback (most recent call last)",
      "\u001b[0;32m<ipython-input-8-9b55bfad963c>\u001b[0m in \u001b[0;36m<module>\u001b[0;34m\u001b[0m\n\u001b[1;32m      1\u001b[0m \u001b[0;31m#Discard GoalKeapers\u001b[0m\u001b[0;34m\u001b[0m\u001b[0;34m\u001b[0m\u001b[0;34m\u001b[0m\u001b[0m\n\u001b[0;32m----> 2\u001b[0;31m \u001b[0;32mfor\u001b[0m \u001b[0mindex\u001b[0m\u001b[0;34m,\u001b[0m \u001b[0mrow\u001b[0m \u001b[0;32min\u001b[0m \u001b[0mf21\u001b[0m\u001b[0;34m.\u001b[0m\u001b[0miterrows\u001b[0m\u001b[0;34m(\u001b[0m\u001b[0;34m)\u001b[0m\u001b[0;34m:\u001b[0m\u001b[0;34m\u001b[0m\u001b[0;34m\u001b[0m\u001b[0m\n\u001b[0m\u001b[1;32m      3\u001b[0m      \u001b[0;32mif\u001b[0m \u001b[0mrow\u001b[0m\u001b[0;34m[\u001b[0m\u001b[0;34m'club_position'\u001b[0m\u001b[0;34m]\u001b[0m \u001b[0;34m==\u001b[0m \u001b[0;34m\"GK\"\u001b[0m\u001b[0;34m:\u001b[0m\u001b[0;34m\u001b[0m\u001b[0;34m\u001b[0m\u001b[0m\n\u001b[1;32m      4\u001b[0m         \u001b[0mf21\u001b[0m\u001b[0;34m.\u001b[0m\u001b[0mdrop\u001b[0m\u001b[0;34m(\u001b[0m\u001b[0mindex\u001b[0m\u001b[0;34m,\u001b[0m \u001b[0minplace\u001b[0m\u001b[0;34m=\u001b[0m\u001b[0;32mTrue\u001b[0m\u001b[0;34m)\u001b[0m\u001b[0;34m\u001b[0m\u001b[0;34m\u001b[0m\u001b[0m\n\u001b[1;32m      5\u001b[0m \u001b[0;34m\u001b[0m\u001b[0m\n",
      "\u001b[0;31mNameError\u001b[0m: name 'f21' is not defined"
     ]
    }
   ],
   "source": [
    "#Discard GoalKeapers\n",
    "for index, row in f21.iterrows():\n",
    "     if row['club_position'] == \"GK\":\n",
    "        f21.drop(index, inplace=True)\n",
    "\n",
    "for index, row in f22.iterrows():\n",
    "     if row['club_position'] == \"GK\":\n",
    "        f22.drop(index, inplace=True)"
   ]
  },
  {
   "cell_type": "code",
   "execution_count": 9,
   "id": "1e3348c5",
   "metadata": {},
   "outputs": [
    {
     "name": "stdout",
     "output_type": "stream",
     "text": [
      "(19239, 52)\n"
     ]
    },
    {
     "ename": "NameError",
     "evalue": "name 'f21' is not defined",
     "output_type": "error",
     "traceback": [
      "\u001b[0;31m---------------------------------------------------------------------------\u001b[0m",
      "\u001b[0;31mNameError\u001b[0m                                 Traceback (most recent call last)",
      "\u001b[0;32m<ipython-input-9-77e42c61c512>\u001b[0m in \u001b[0;36m<module>\u001b[0;34m\u001b[0m\n\u001b[1;32m      1\u001b[0m \u001b[0mprint\u001b[0m\u001b[0;34m(\u001b[0m\u001b[0mf22\u001b[0m\u001b[0;34m.\u001b[0m\u001b[0mshape\u001b[0m\u001b[0;34m)\u001b[0m\u001b[0;34m\u001b[0m\u001b[0;34m\u001b[0m\u001b[0m\n\u001b[0;32m----> 2\u001b[0;31m \u001b[0mprint\u001b[0m\u001b[0;34m(\u001b[0m\u001b[0mf21\u001b[0m\u001b[0;34m.\u001b[0m\u001b[0mshape\u001b[0m\u001b[0;34m)\u001b[0m\u001b[0;34m\u001b[0m\u001b[0;34m\u001b[0m\u001b[0m\n\u001b[0m",
      "\u001b[0;31mNameError\u001b[0m: name 'f21' is not defined"
     ]
    }
   ],
   "source": [
    "print(f22.shape)\n",
    "print(f21.shape)"
   ]
  },
  {
   "cell_type": "code",
   "execution_count": 10,
   "id": "7b04c38b",
   "metadata": {},
   "outputs": [
    {
     "ename": "NameError",
     "evalue": "name 'f21' is not defined",
     "output_type": "error",
     "traceback": [
      "\u001b[0;31m---------------------------------------------------------------------------\u001b[0m",
      "\u001b[0;31mNameError\u001b[0m                                 Traceback (most recent call last)",
      "\u001b[0;32m<ipython-input-10-493b73f69999>\u001b[0m in \u001b[0;36m<module>\u001b[0;34m\u001b[0m\n\u001b[1;32m      1\u001b[0m \u001b[0;31m#fill Nan values as 0\u001b[0m\u001b[0;34m\u001b[0m\u001b[0;34m\u001b[0m\u001b[0;34m\u001b[0m\u001b[0m\n\u001b[0;32m----> 2\u001b[0;31m \u001b[0mf21\u001b[0m\u001b[0;34m.\u001b[0m\u001b[0mfillna\u001b[0m\u001b[0;34m(\u001b[0m\u001b[0;36m0\u001b[0m\u001b[0;34m)\u001b[0m\u001b[0;34m\u001b[0m\u001b[0;34m\u001b[0m\u001b[0m\n\u001b[0m\u001b[1;32m      3\u001b[0m \u001b[0mf22\u001b[0m\u001b[0;34m.\u001b[0m\u001b[0mfillna\u001b[0m\u001b[0;34m(\u001b[0m\u001b[0;36m0\u001b[0m\u001b[0;34m)\u001b[0m\u001b[0;34m\u001b[0m\u001b[0;34m\u001b[0m\u001b[0m\n",
      "\u001b[0;31mNameError\u001b[0m: name 'f21' is not defined"
     ]
    }
   ],
   "source": [
    "#fill Nan values as 0 \n",
    "f21.fillna(0)\n",
    "f22.fillna(0)"
   ]
  },
  {
   "cell_type": "code",
   "execution_count": 11,
   "id": "250426f0",
   "metadata": {},
   "outputs": [
    {
     "ename": "NameError",
     "evalue": "name 'f21' is not defined",
     "output_type": "error",
     "traceback": [
      "\u001b[0;31m---------------------------------------------------------------------------\u001b[0m",
      "\u001b[0;31mNameError\u001b[0m                                 Traceback (most recent call last)",
      "\u001b[0;32m<ipython-input-11-7ce16e0ff870>\u001b[0m in \u001b[0;36m<module>\u001b[0;34m\u001b[0m\n\u001b[0;32m----> 1\u001b[0;31m \u001b[0mf21\u001b[0m\u001b[0;34m.\u001b[0m\u001b[0mhead\u001b[0m\u001b[0;34m(\u001b[0m\u001b[0;34m)\u001b[0m\u001b[0;34m\u001b[0m\u001b[0;34m\u001b[0m\u001b[0m\n\u001b[0m",
      "\u001b[0;31mNameError\u001b[0m: name 'f21' is not defined"
     ]
    }
   ],
   "source": [
    "f21.head()"
   ]
  },
  {
   "cell_type": "markdown",
   "id": "dfe23337",
   "metadata": {},
   "source": [
    "# LINEAR  & MULTIPLE LINEAR REGRESSION MODEL"
   ]
  },
  {
   "cell_type": "markdown",
   "id": "8c404957",
   "metadata": {},
   "source": [
    "For our prediction model, we chose linear regression since as are predicting the player's overall rating, a numerical variable rather than categorial. We begin by fitting a simple linear regression model that uses one explanatory variable `potential` to predict our response variable `overall`"
   ]
  },
  {
   "cell_type": "code",
   "execution_count": null,
   "id": "35779bd7",
   "metadata": {},
   "outputs": [],
   "source": [
    "from sklearn.linear_model import LinearRegression"
   ]
  },
  {
   "cell_type": "code",
   "execution_count": null,
   "id": "f2c1344c",
   "metadata": {},
   "outputs": [],
   "source": [
    "reg = linear_model.LinearRegression()\n",
    "X = f21[['potential']]\n",
    "y = f21['overall']\n",
    "reg.fit(X, y)\n",
    "print(\"y = x *\", reg.coef_, \"+\", reg.intercept_)"
   ]
  },
  {
   "cell_type": "code",
   "execution_count": null,
   "id": "2b2d755d",
   "metadata": {},
   "outputs": [],
   "source": [
    "reg.predict(X[:10])"
   ]
  },
  {
   "cell_type": "code",
   "execution_count": null,
   "id": "4b46a329",
   "metadata": {},
   "outputs": [],
   "source": [
    "reg.predict(X[:5]) - y[:5]"
   ]
  },
  {
   "cell_type": "markdown",
   "id": "ae066272",
   "metadata": {},
   "source": [
    "To evaluate our model, we calculated the mean squared error for the original data as well as the R-squared metric. Mean squared error helps us understand how far on average are the original values of `overall` from our predicted values. $R^2$ metric helps us measure the variance of our data explained by our linear regression model"
   ]
  },
  {
   "cell_type": "code",
   "execution_count": null,
   "id": "958703f6",
   "metadata": {},
   "outputs": [],
   "source": [
    "predicted = reg.predict(X)\n",
    "mse = ((np.array(y)-predicted)**2).sum()/len(y)\n",
    "r2 = r2_score(y, predicted) \n",
    "print(\"MSE:\", mse)\n",
    "print(\"R Squared:\", r2)"
   ]
  },
  {
   "cell_type": "markdown",
   "id": "7aa6afbf",
   "metadata": {},
   "source": [
    "We can see that our simple linear regression model is able to make predictions on the overall rating from the player potential. However with a very high MSE & $R^2$ value of 0.39, our model is far from achieving the desired accuracy "
   ]
  },
  {
   "cell_type": "markdown",
   "id": "d9c7cd7d",
   "metadata": {},
   "source": [
    "#### Multiple Linear Regression\n",
    "To improve our model, we add more explantory variables by picking columns from our dataset that we believe to be best suited to predicting the overall rating. Our data exploration helped us understand that player's attributes significantly affect their performance. And so we added the attribute columns `shooting`, `pace`, `passing`, `dribbling`, `defending` and `physic`. A player's age is also a siginificant determinant for predicting our overall rating. A younger player with high potential is likely to add many more points to their overall rating than a player above the age of 30. So we also added `age` to our model. "
   ]
  },
  {
   "cell_type": "code",
   "execution_count": null,
   "id": "c6a31246",
   "metadata": {},
   "outputs": [],
   "source": [
    "f21['shooting'] = f21['shooting'].fillna(0)\n",
    "f21['pace'] = f21['pace'].fillna(0)\n",
    "f21['passing'] = f21['passing'].fillna(0)\n",
    "f21['dribbling'] = f21['dribbling'].fillna(0)\n",
    "f21['defending'] = f21['defending'].fillna(0)\n",
    "f21['physic'] = f21['physic'].fillna(0)"
   ]
  },
  {
   "cell_type": "code",
   "execution_count": null,
   "id": "2d5076ea",
   "metadata": {},
   "outputs": [],
   "source": [
    "reg = linear_model.LinearRegression()\n",
    "X = f21[['potential', 'age', 'shooting', 'pace', 'passing', 'dribbling', 'defending', 'physic']]\n",
    "y = f21['overall']\n",
    "reg.fit(X, y)\n",
    "print(\"y = x *\", reg.coef_, \"+\", reg.intercept_)"
   ]
  },
  {
   "cell_type": "code",
   "execution_count": null,
   "id": "06fbafed",
   "metadata": {},
   "outputs": [],
   "source": [
    "predicted = reg.predict(X)\n",
    "mse = ((np.array(y)-predicted)**2).sum()/len(y)\n",
    "r2 = r2_score(y, predicted)\n",
    "print(\"MSE:\", mse)\n",
    "print(\"R Squared:\", r2)"
   ]
  },
  {
   "cell_type": "markdown",
   "id": "904f4538",
   "metadata": {},
   "source": [
    "We can see that adding the extra columns significantly improved the performance of our model. Our MSE lowered by a big margin, and even though it not as close to 1.0 as we would like, it is a major improvment. Our $R^2$ metric is now much closer to 1.0, showing that above 85% of our predicted data fits the regression model"
   ]
  },
  {
   "cell_type": "markdown",
   "id": "13da3ebc",
   "metadata": {},
   "source": [
    "#### Training & Testing "
   ]
  },
  {
   "cell_type": "markdown",
   "id": "b498681a",
   "metadata": {},
   "source": [
    "After putting together our intial model, we want to evaluate how well our model would work on new data. To do this, we split our data into a 'training' set that tests on our 'test' set. We split 80% of our data into our training set and 20% into our test set"
   ]
  },
  {
   "cell_type": "code",
   "execution_count": null,
   "id": "62a447e5",
   "metadata": {},
   "outputs": [],
   "source": [
    "train, test = train_test_split(f21, test_size=0.2, random_state=142)\n",
    "print(train.shape)\n",
    "print(test.shape)"
   ]
  },
  {
   "cell_type": "code",
   "execution_count": null,
   "id": "6cc4c90b",
   "metadata": {},
   "outputs": [],
   "source": [
    "reg = linear_model.LinearRegression()\n",
    "X_train = train[['potential', 'age', 'shooting', 'pace', 'passing', 'dribbling', 'defending', 'physic']]\n",
    "y_train = train['overall']\n",
    "\n",
    "X_test = test[['potential', 'age', 'shooting', 'pace', 'passing', 'dribbling', 'defending', 'physic']]\n",
    "y_test = test['overall']\n",
    "\n",
    "reg.fit(X_train, y_train)"
   ]
  },
  {
   "cell_type": "code",
   "execution_count": null,
   "id": "7935744c",
   "metadata": {},
   "outputs": [],
   "source": [
    "X_train = f21.drop(['league_level', 'wage_eur', 'short_name', 'club_name', 'league_name', 'club_position', 'nationality_name', 'preferred_foot', 'work_rate'], axis=1)\n",
    "y_train = train['overall']\n",
    "X_test = f21.drop(['league_level', 'wage_eur', 'short_name', 'club_name', 'league_name', 'club_position', 'nationality_name', 'preferred_foot', 'work_rate'], axis=1)\n",
    "y_test = test['overall']\n",
    "print(\"X_train shape: \", X_train.shape)\n",
    "print(\"y_train shape: \", y_train.shape)\n",
    "print(\"X_test shape: \", X_test.shape)\n",
    "print(\"y_test shape: \", y_test.shape)\n",
    "print(X_train.head())\n",
    "print(y_train.head())"
   ]
  },
  {
   "cell_type": "code",
   "execution_count": null,
   "id": "8d34ba75",
   "metadata": {},
   "outputs": [],
   "source": [
    "predicted = reg.predict(X_test)\n",
    "mse = ((np.array(y_test)-predicted)**2).sum()/len(y_test)\n",
    "r2 = r2_score(y_test, predicted)\n",
    "print(\"MSE:\", mse)\n",
    "print(\"Root MSE:\", np.sqrt(mse))\n",
    "print(\"R Squared:\", r2)"
   ]
  },
  {
   "cell_type": "markdown",
   "id": "5cb8ab8f",
   "metadata": {},
   "source": [
    "After training and testing our model on different data, the results are slightly poorer than our intial model. Our performance was only a little under than the intial model though, with an $R^2$ of 0.850 compared to our intial $R^2$ of 0.852. Training and testing allows us to conclude that we still have a good model. "
   ]
  },
  {
   "cell_type": "markdown",
   "id": "9f4642fb",
   "metadata": {},
   "source": [
    "# Naive Bayes"
   ]
  },
  {
   "cell_type": "code",
   "execution_count": null,
   "id": "237e704d",
   "metadata": {},
   "outputs": [],
   "source": [
    "import pandas as pd\n",
    "from sklearn.datasets import make_classification\n",
    "from sklearn.naive_bayes import GaussianNB\n",
    "import warnings\n",
    "from sklearn.model_selection import cross_val_score, KFold\n",
    "warnings.filterwarnings(\"ignore\")"
   ]
  },
  {
   "cell_type": "code",
   "execution_count": null,
   "id": "b1b26b51",
   "metadata": {},
   "outputs": [],
   "source": [
    "# Create and training a Gaussian Naive Bayes classifier model\n",
    "clf = GaussianNB()\n",
    "clf.fit(X_train, y_train)\n",
    "\n",
    "# Use the model to predict testing data\n",
    "y_pred = clf.predict(X_test)\n",
    "accuracy = accuracy_score(y_pred, y_test)\n",
    "print('Testing accuracy is: %.4f\\n' % accuracy)"
   ]
  },
  {
   "cell_type": "code",
   "execution_count": null,
   "id": "388d09e8",
   "metadata": {},
   "outputs": [],
   "source": [
    "# Explore the learned probability (model parameters)\n",
    "print('Estimated probability of classess: \\n', clf.class_prior_)\n",
    "print('Estimated mean for each Gaussian distribution: \\n', clf.theta_)\n",
    "print('Estimated variance for each Gaussian distribution: \\n', clf.sigma_)"
   ]
  },
  {
   "cell_type": "code",
   "execution_count": null,
   "id": "ff6ce276",
   "metadata": {},
   "outputs": [],
   "source": [
    "# Use 10-fold cross validation to show a more robust prediction accuracy\n",
    "clf = GaussianNB()\n",
    "scores = cross_val_score(clf, X, y, scoring='accuracy', cv=10)\n",
    "print('Gaussian Naive Bayes accuracy range: [%.4f, %.4f]; mean: %.4f; std: %.4f\\n' % (scores.min(), scores.max(), scores.mean(), scores.std()))"
   ]
  },
  {
   "cell_type": "markdown",
   "id": "343569c6",
   "metadata": {},
   "source": [
    "# Neural Networks"
   ]
  },
  {
   "cell_type": "code",
   "execution_count": null,
   "id": "016e5078",
   "metadata": {},
   "outputs": [],
   "source": [
    "from sklearn.metrics import accuracy_score\n",
    "from sklearn.neural_network import MLPClassifier"
   ]
  },
  {
   "cell_type": "code",
   "execution_count": null,
   "id": "3eafa0f1",
   "metadata": {},
   "outputs": [],
   "source": [
    "clf = MLPClassifier(random_state=42)\n",
    "clf.fit(X_train, y_train)\n",
    "accuracy = accuracy_score(y_test, y_pred)\n",
    "print('Accuracy: %.4f \\n' % accuracy)"
   ]
  },
  {
   "cell_type": "code",
   "execution_count": null,
   "id": "d07c15bf",
   "metadata": {},
   "outputs": [],
   "source": [
    "# Explore the learned MLP model\n",
    "print(clf)\n",
    "print('\\n# of layers (including the input layer): %.f\\n' % clf.n_layers_)\n",
    "print('MLP structure: %.f X %.f X %.f\\n' % (X.shape[1], clf.get_params()['hidden_layer_sizes'][0], clf.n_outputs_))"
   ]
  },
  {
   "cell_type": "code",
   "execution_count": null,
   "id": "97f97d76",
   "metadata": {},
   "outputs": [],
   "source": [
    "clf_mlp = MLPClassifier(hidden_layer_sizes=[100,100], random_state=42)\n",
    "scores_mlp_2layers = cross_val_score(clf_mlp, X, y, scoring='accuracy', cv=10, verbose=1)\n",
    "print(\"Accuracy range for MLP with two hidden layers: [%.4f, %.4f]; mean: %.4f; std: %.4f\\n\" % (scores_mlp_2layers.min(), scores_mlp_2layers.max(), scores_mlp_2layers.mean(), scores_mlp_2layers.std()))"
   ]
  },
  {
   "cell_type": "code",
   "execution_count": null,
   "id": "208ae4c2",
   "metadata": {},
   "outputs": [],
   "source": []
  },
  {
   "cell_type": "code",
   "execution_count": null,
   "id": "83654b8f",
   "metadata": {},
   "outputs": [],
   "source": [
    "def label_pos (row):\n",
    "    \n",
    "    if(row.club_position == \"RB\" or row.club_position == \"CB\" or row.club_position == \"LB\" or \n",
    "       row.club_position == \"LWB\" or row.club_position == \"RCB\"or row.club_position == \"RWB\" or \n",
    "       row.club_position == \"LCB\"):\n",
    "        return 'Defender'\n",
    "    if(row.club_position == \"RM\" or row.club_position == \"CM\" or row.club_position == \"LM\"\n",
    "       or row.club_position == \"CAM\" or row.club_position == \"LDM\" or row.club_position == \"RDM\"\n",
    "      or row.club_position == \"LAM\"or row.club_position == \"RAM\" or row.club_position == \"CDM\"\n",
    "       or row.club_position == \"RCM\"or row.club_position== \"LCM\"):\n",
    "        return 'MidFielder'\n",
    "    if(row.club_position == \"RW\" or row.club_position == \"CF\" or row.club_position == \"LW\" or \n",
    "       row.club_position == \"ST\" or row.club_position == \"RS\"or row.club_position == \"LS\"\n",
    "       or row.club_position == \"LF\"or row.club_position == \"RF\"):\n",
    "        return 'Forward'\n",
    "    if (row.club_position == \"SUB\"):\n",
    "        return 'Substitute'\n",
    "    if (row.club_position == \"RES\"):\n",
    "        return 'Reserve'\n",
    "    return \"other\"\n",
    "\n",
    "f21['field_position'] = f21.apply (lambda row: label_pos(row), axis=1)"
   ]
  },
  {
   "cell_type": "code",
   "execution_count": null,
   "id": "f1327821",
   "metadata": {},
   "outputs": [],
   "source": [
    "ratingsByPositions = f21.groupby([f21['field_position']]).mean()\n",
    "ratingsByPositions = ratingsByPositions\n",
    "ratingsByPositions = ratingsByPositions[['pace','shooting','passing','dribbling','defending','physic','overall']]\n",
    "ratingsByPositions.plot(kind='barh', figsize=(10,15))\n",
    "\n",
    "plt.title('Ratings Average By Position',fontsize=20)\n",
    "plt.xlabel('Rating',fontsize=16)\n",
    "plt.ylabel('Position',fontsize=16);"
   ]
  },
  {
   "cell_type": "code",
   "execution_count": null,
   "id": "14adb032",
   "metadata": {},
   "outputs": [],
   "source": [
    "def country(x):\n",
    "    return fifa_22_clean[fifa_22_clean['nationality_name'] == x][['short_name','overall','potential','club_position']]\n",
    "\n",
    "# Australian Players\n",
    "##country('Australia')\n"
   ]
  },
  {
   "cell_type": "code",
   "execution_count": null,
   "id": "60a9bb74",
   "metadata": {},
   "outputs": [],
   "source": [
    "# Australian Players\n",
    "country('Australia')"
   ]
  },
  {
   "cell_type": "code",
   "execution_count": null,
   "id": "6dfd8657",
   "metadata": {},
   "outputs": [],
   "source": [
    "plt.figure(figsize = (13, 8))\n",
    "ax = sns.countplot(x = 'height_cm', data = fifa_22_clean, palette = 'dark')\n",
    "ax.set_title(label = 'Number of players categorised by height', fontsize = 20)\n",
    "ax.set_xlabel(xlabel = 'Height in cm', fontsize = 16)\n",
    "ax.set_ylabel(ylabel = 'Number', fontsize = 16)\n",
    "plt.show()"
   ]
  },
  {
   "cell_type": "code",
   "execution_count": null,
   "id": "96761716",
   "metadata": {},
   "outputs": [],
   "source": [
    "plt.figure(figsize = (20, 5))\n",
    "sns.distplot(data['Weight'], color = 'pink')\n",
    "plt.title('Different Weights of the Players Participating in FIFA 2019', fontsize = 20)\n",
    "plt.xlabel('Heights associated with the players', fontsize = 16)\n",
    "plt.ylabel('count of Players', fontsize = 16)\n",
    "plt.show()"
   ]
  },
  {
   "cell_type": "code",
   "execution_count": null,
   "id": "dd9e25cb",
   "metadata": {},
   "outputs": [],
   "source": [
    "fifa_22_clean.hist(bins=40, figsize=(27, 17))\n",
    "plt.show()"
   ]
  },
  {
   "cell_type": "code",
   "execution_count": null,
   "id": "9ecb5d5b",
   "metadata": {},
   "outputs": [],
   "source": []
  },
  {
   "cell_type": "code",
   "execution_count": null,
   "id": "5516e74a",
   "metadata": {},
   "outputs": [],
   "source": []
  }
 ],
 "metadata": {
  "kernelspec": {
   "display_name": "Python 3",
   "language": "python",
   "name": "python3"
  },
  "language_info": {
   "codemirror_mode": {
    "name": "ipython",
    "version": 3
   },
   "file_extension": ".py",
   "mimetype": "text/x-python",
   "name": "python",
   "nbconvert_exporter": "python",
   "pygments_lexer": "ipython3",
   "version": "3.8.8"
  }
 },
 "nbformat": 4,
 "nbformat_minor": 5
}
